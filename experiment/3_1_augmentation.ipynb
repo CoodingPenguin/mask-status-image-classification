{
 "cells": [
  {
   "cell_type": "markdown",
   "id": "interstate-liability",
   "metadata": {},
   "source": [
    "# Experiment 1: Augmentation"
   ]
  },
  {
   "cell_type": "code",
   "execution_count": 1,
   "id": "dried-stanford",
   "metadata": {},
   "outputs": [
    {
     "name": "stdout",
     "output_type": "stream",
     "text": [
      "Pytorch version: 1.6.0\n",
      "This notebook use cuda:0\n"
     ]
    }
   ],
   "source": [
    "import os\n",
    "import sys\n",
    "import pickle\n",
    "from glob import glob\n",
    "from time import time\n",
    "from tqdm.notebook import tqdm\n",
    "from collections import Counter\n",
    "from sklearn.metrics import f1_score, accuracy_score\n",
    "\n",
    "# data processing\n",
    "import cv2\n",
    "import numpy as np\n",
    "import pandas as pd\n",
    "\n",
    "# data visualization\n",
    "import matplotlib.pyplot as plt\n",
    "import seaborn as sns\n",
    "from PIL import Image\n",
    "%matplotlib inline\n",
    "\n",
    "# pytorch\n",
    "import torch\n",
    "from torch import nn, optim\n",
    "from torch.nn import functional as F\n",
    "from torch.utils.data import Dataset, DataLoader, random_split\n",
    "from torchvision import datasets, transforms, models, utils\n",
    "torch.manual_seed(0)\n",
    "print(f'Pytorch version: {torch.__version__}')\n",
    "\n",
    "# device setting\n",
    "device = torch.device('cuda:0' if torch.cuda.is_available() else 'cpu')\n",
    "print(f'This notebook use {device}')\n",
    "\n",
    "# ignore warnings\n",
    "import warnings\n",
    "warnings.filterwarnings('ignore')"
   ]
  },
  {
   "cell_type": "code",
   "execution_count": 2,
   "id": "secondary-currency",
   "metadata": {},
   "outputs": [],
   "source": [
    "# 파일 경로 사용자 정의\n",
    "class path:\n",
    "    train = '../input/data/train'\n",
    "    train_img = f'{train}/images'\n",
    "    train_df = f'{train}/train.csv'\n",
    "    test = '../input/data/eval'\n",
    "    test_img = f'{test}/images'\n",
    "    test_df = f'{test}/info.csv'"
   ]
  },
  {
   "cell_type": "code",
   "execution_count": 3,
   "id": "tender-switch",
   "metadata": {},
   "outputs": [],
   "source": [
    "BATCH_SIZE=16\n",
    "NUM_WORKERS=2\n",
    "LEARNING_RATE=1e-4\n",
    "EPOCHS=3"
   ]
  },
  {
   "cell_type": "markdown",
   "id": "coral-march",
   "metadata": {},
   "source": [
    "## 1. Dataset Construction"
   ]
  },
  {
   "cell_type": "code",
   "execution_count": 4,
   "id": "vital-reception",
   "metadata": {},
   "outputs": [],
   "source": [
    "class MaskDataset(Dataset):\n",
    "    def __init__(self, csv_file, transform=None):\n",
    "        self.data = pd.read_csv(csv_file)\n",
    "        self.transform = transform\n",
    "        \n",
    "    def set_transform(self, transform):\n",
    "        self.transform = transform\n",
    "    \n",
    "    def __getitem__(self, index):\n",
    "        current_data = self.data.iloc[index]\n",
    "        target = current_data.target\n",
    "        image = Image.open(current_data.path)\n",
    "        \n",
    "        if self.transform:\n",
    "            image = self.transform(image)\n",
    "        \n",
    "        return image, target\n",
    "        \n",
    "    def __len__(self):\n",
    "        return len(self.data)"
   ]
  },
  {
   "cell_type": "markdown",
   "id": "pointed-prediction",
   "metadata": {},
   "source": [
    "## 2. Augmentation Methods\n",
    "\n",
    "- RandomHorizontalFlip\n",
    "- CenterCrop\n",
    "- RandomCrop\n",
    "- Resize\n",
    "- Normalize: ToTensor() 이후에 사용\n",
    "- Color Jitter - Brightness\n",
    "- Color Jitter - Contrast\n",
    "- Color Jitter - Saturation\n",
    "- ToTensor\n",
    "- GrayScale\n",
    "- FiveCrop, TenCrop\n",
    "- GaussianBlur"
   ]
  },
  {
   "cell_type": "code",
   "execution_count": 5,
   "id": "neural-spending",
   "metadata": {},
   "outputs": [
    {
     "data": {
      "text/plain": [
       "['CenterCrop',\n",
       " 'ColorJitter',\n",
       " 'Compose',\n",
       " 'ConvertImageDtype',\n",
       " 'FiveCrop',\n",
       " 'Grayscale',\n",
       " 'Lambda',\n",
       " 'LinearTransformation',\n",
       " 'Normalize',\n",
       " 'PILToTensor',\n",
       " 'Pad',\n",
       " 'RandomAffine',\n",
       " 'RandomApply',\n",
       " 'RandomChoice',\n",
       " 'RandomCrop',\n",
       " 'RandomErasing',\n",
       " 'RandomGrayscale',\n",
       " 'RandomHorizontalFlip',\n",
       " 'RandomOrder',\n",
       " 'RandomPerspective',\n",
       " 'RandomResizedCrop',\n",
       " 'RandomRotation',\n",
       " 'RandomSizedCrop',\n",
       " 'RandomVerticalFlip',\n",
       " 'Resize',\n",
       " 'Scale',\n",
       " 'TenCrop',\n",
       " 'ToPILImage',\n",
       " 'ToTensor']"
      ]
     },
     "execution_count": 5,
     "metadata": {},
     "output_type": "execute_result"
    }
   ],
   "source": [
    "# transforms의 종류\n",
    "dir(transforms)[:-13]"
   ]
  },
  {
   "cell_type": "markdown",
   "id": "local-illustration",
   "metadata": {},
   "source": [
    "### 2.0. No Augmentation"
   ]
  },
  {
   "cell_type": "code",
   "execution_count": 17,
   "id": "arabic-discharge",
   "metadata": {},
   "outputs": [],
   "source": [
    "train_transforms = transforms.Compose([\n",
    "    transforms.ToTensor(),\n",
    "    transforms.Normalize(mean=[0.548, 0.504, 0.479], std=[0.237, 0.247, 0.246]),\n",
    "])"
   ]
  },
  {
   "cell_type": "code",
   "execution_count": 18,
   "id": "western-associate",
   "metadata": {},
   "outputs": [],
   "source": [
    "valid_transforms = transforms.Compose([\n",
    "    transforms.ToTensor(),\n",
    "    transforms.Normalize(mean=[0.548, 0.504, 0.479], std=[0.237, 0.247, 0.246]),\n",
    "])"
   ]
  },
  {
   "cell_type": "code",
   "execution_count": 19,
   "id": "military-culture",
   "metadata": {},
   "outputs": [],
   "source": [
    "# 데이터셋 생성\n",
    "dataset = MaskDataset(f'{path.train}/train_modified.csv')\n",
    "\n",
    "# 학습/검증 데이터셋으로 분리\n",
    "n_train = int(len(dataset)*0.8)\n",
    "n_valid = len(dataset)-n_train\n",
    "train_dataset, valid_dataset = random_split(dataset, [n_train, n_valid])\n",
    "\n",
    "# Augmentation 설정\n",
    "train_dataset.dataset.set_transform(train_transforms)\n",
    "valid_dataset.dataset.set_transform(valid_transforms)\n",
    "\n",
    "# 데이터로더 생성\n",
    "train_loader = DataLoader(train_dataset, batch_size=BATCH_SIZE, num_workers=NUM_WORKERS, shuffle=True)\n",
    "valid_loader = DataLoader(valid_dataset, shuffle=False)"
   ]
  },
  {
   "cell_type": "markdown",
   "id": "challenging-mambo",
   "metadata": {},
   "source": [
    "### 2.1. Augmentation 1\n",
    "- CenterCrop (224, 224)\n",
    "- RandomHorizontalFlip\n",
    "- RandomRotation\n",
    "- Color Jitter\n",
    "- ToTensor\n",
    "- Normalize"
   ]
  },
  {
   "cell_type": "code",
   "execution_count": 6,
   "id": "informative-anniversary",
   "metadata": {},
   "outputs": [],
   "source": [
    "train_transforms1 = transforms.Compose([\n",
    "    transforms.CenterCrop(224),\n",
    "    transforms.RandomHorizontalFlip(p=0.5),\n",
    "    transforms.RandomRotation([-5, +5]),\n",
    "    transforms.ColorJitter(brightness=0.5, saturation=0.5, hue=0.5),\n",
    "    transforms.ToTensor(),\n",
    "    transforms.Normalize(mean=[0.548, 0.504, 0.479], std=[0.237, 0.247, 0.246]),\n",
    "])"
   ]
  },
  {
   "cell_type": "code",
   "execution_count": 7,
   "id": "reduced-screen",
   "metadata": {},
   "outputs": [],
   "source": [
    "valid_transforms1 = transforms.Compose([\n",
    "    transforms.CenterCrop(224),\n",
    "    transforms.ToTensor(),\n",
    "    transforms.Normalize(mean=[0.548, 0.504, 0.479], std=[0.237, 0.247, 0.246]),\n",
    "])"
   ]
  },
  {
   "cell_type": "code",
   "execution_count": 8,
   "id": "grave-associate",
   "metadata": {},
   "outputs": [],
   "source": [
    "# 데이터셋 생성\n",
    "dataset = MaskDataset(f'{path.train}/train_modified.csv')\n",
    "\n",
    "# 학습/검증 데이터셋으로 분리\n",
    "n_train = int(len(dataset)*0.8)\n",
    "n_valid = len(dataset)-n_train\n",
    "train_dataset, valid_dataset = random_split(dataset, [n_train, n_valid])\n",
    "\n",
    "# Augmentation 설정\n",
    "train_dataset.dataset.set_transform(train_transforms1)\n",
    "valid_dataset.dataset.set_transform(valid_transforms1)\n",
    "\n",
    "# 데이터로더 생성\n",
    "train_loader = DataLoader(train_dataset, batch_size=BATCH_SIZE, num_workers=NUM_WORKERS, shuffle=True)\n",
    "valid_loader = DataLoader(valid_dataset, shuffle=False)"
   ]
  },
  {
   "cell_type": "markdown",
   "id": "caring-architect",
   "metadata": {},
   "source": [
    "### 2.2. Augmentation 2\n",
    "- CenterCrop (384, 384)\n",
    "- Resize (224, 224)\n",
    "- RandomHorizontalFlip\n",
    "- RandomRotation\n",
    "- Color Jitter\n",
    "- ToTensor\n",
    "- Normalize"
   ]
  },
  {
   "cell_type": "code",
   "execution_count": 39,
   "id": "black-bible",
   "metadata": {},
   "outputs": [],
   "source": [
    "train_transforms2 = transforms.Compose([\n",
    "    transforms.CenterCrop(384),\n",
    "    transforms.Resize(224),\n",
    "    transforms.RandomHorizontalFlip(p=0.5),\n",
    "    transforms.RandomRotation([-5, +5]),\n",
    "    transforms.ColorJitter(brightness=0.5, saturation=0.5, hue=0.5),\n",
    "    transforms.ToTensor(),\n",
    "    transforms.Normalize(mean=[0.548, 0.504, 0.479], std=[0.237, 0.247, 0.246]),\n",
    "])"
   ]
  },
  {
   "cell_type": "code",
   "execution_count": 42,
   "id": "appointed-juice",
   "metadata": {},
   "outputs": [],
   "source": [
    "valid_transforms2 = transforms.Compose([\n",
    "    transforms.CenterCrop(384),\n",
    "    transforms.Resize(224),\n",
    "    transforms.ToTensor(),\n",
    "    transforms.Normalize(mean=[0.548, 0.504, 0.479], std=[0.237, 0.247, 0.246]),\n",
    "])"
   ]
  },
  {
   "cell_type": "code",
   "execution_count": 16,
   "id": "fresh-edward",
   "metadata": {},
   "outputs": [],
   "source": [
    "# 데이터셋 생성\n",
    "dataset = MaskDataset(f'{path.train}/train_modified.csv')\n",
    "\n",
    "# 학습/검증 데이터셋으로 분리\n",
    "n_train = int(len(dataset)*0.8)\n",
    "n_valid = len(dataset)-n_train\n",
    "train_dataset, valid_dataset = random_split(dataset, [n_train, n_valid])\n",
    "\n",
    "# Augmentation 설정\n",
    "train_dataset.dataset.set_transform(train_transforms2)\n",
    "valid_dataset.dataset.set_transform(valid_transforms2)\n",
    "\n",
    "# 데이터로더 생성\n",
    "train_loader = DataLoader(train_dataset, batch_size=BATCH_SIZE, num_workers=NUM_WORKERS, shuffle=True)\n",
    "valid_loader = DataLoader(valid_dataset, shuffle=False)"
   ]
  },
  {
   "cell_type": "markdown",
   "id": "empirical-airfare",
   "metadata": {},
   "source": [
    "### 2.3. Augmentation 3\n",
    "- CenterCrop (384, 384)\n",
    "- Resize (224, 224)\n",
    "- GrayScale\n",
    "- RandomHorizontalFlip\n",
    "- RandomRotation\n",
    "- Color Jitter\n",
    "- ToTensor\n",
    "- Normalize"
   ]
  },
  {
   "cell_type": "code",
   "execution_count": 20,
   "id": "destroyed-miami",
   "metadata": {},
   "outputs": [],
   "source": [
    "train_transforms3 = transforms.Compose([\n",
    "    transforms.CenterCrop(384),\n",
    "    transforms.Resize(224),\n",
    "    transforms.Grayscale(num_output_channels=1),\n",
    "    transforms.RandomHorizontalFlip(p=0.5),\n",
    "    transforms.RandomRotation([-5, +5]),\n",
    "    transforms.ColorJitter(brightness=0.5, saturation=0.5, hue=0.5),\n",
    "    transforms.ToTensor(),\n",
    "    transforms.Normalize(mean=[0.5], std=[0.24]),\n",
    "])"
   ]
  },
  {
   "cell_type": "code",
   "execution_count": 21,
   "id": "turkish-celebration",
   "metadata": {},
   "outputs": [],
   "source": [
    "valid_transforms3 = transforms.Compose([\n",
    "    transforms.CenterCrop(384),\n",
    "    transforms.Resize(224),\n",
    "    transforms.Grayscale(num_output_channels=1),\n",
    "    transforms.ToTensor(),\n",
    "    transforms.Normalize(mean=[0.5], std=[0.24]),\n",
    "])"
   ]
  },
  {
   "cell_type": "code",
   "execution_count": 22,
   "id": "virtual-mercury",
   "metadata": {},
   "outputs": [],
   "source": [
    "# 데이터셋 생성\n",
    "dataset = MaskDataset(f'{path.train}/train_modified.csv')\n",
    "\n",
    "# 학습/검증 데이터셋으로 분리\n",
    "n_train = int(len(dataset)*0.8)\n",
    "n_valid = len(dataset)-n_train\n",
    "train_dataset, valid_dataset = random_split(dataset, [n_train, n_valid])\n",
    "\n",
    "# Augmentation 설정\n",
    "train_dataset.dataset.set_transform(train_transforms3)\n",
    "valid_dataset.dataset.set_transform(valid_transforms3)\n",
    "\n",
    "# 데이터로더 생성\n",
    "train_loader = DataLoader(train_dataset, batch_size=BATCH_SIZE, num_workers=NUM_WORKERS, shuffle=True)\n",
    "valid_loader = DataLoader(valid_dataset, shuffle=False)"
   ]
  },
  {
   "cell_type": "markdown",
   "id": "living-control",
   "metadata": {},
   "source": [
    "### 2.4. Augmentation 4\n",
    "\n",
    "- CenterCrop (384, 384)\n",
    "- Resize (224, 224)\n",
    "- RandomHorizontalFlip\n",
    "- Color Jitter\n",
    "- ToTensor\n",
    "- Normalize"
   ]
  },
  {
   "cell_type": "code",
   "execution_count": 40,
   "id": "passive-stroke",
   "metadata": {},
   "outputs": [],
   "source": [
    "train_transforms4 = transforms.Compose([\n",
    "    transforms.CenterCrop(384),\n",
    "    transforms.Resize(224),\n",
    "    transforms.RandomHorizontalFlip(p=0.5),\n",
    "    transforms.ColorJitter(brightness=0.5, saturation=0.5, hue=0.5),\n",
    "    transforms.ToTensor(),\n",
    "    transforms.Normalize(mean=[0.548, 0.504, 0.479], std=[0.237, 0.247, 0.246]),\n",
    "])"
   ]
  },
  {
   "cell_type": "code",
   "execution_count": 43,
   "id": "separated-retrieval",
   "metadata": {},
   "outputs": [],
   "source": [
    "valid_transforms4 = transforms.Compose([\n",
    "    transforms.CenterCrop(384),\n",
    "    transforms.Resize(224),\n",
    "    transforms.ToTensor(),\n",
    "    transforms.Normalize(mean=[0.548, 0.504, 0.479], std=[0.237, 0.247, 0.246]),\n",
    "])"
   ]
  },
  {
   "cell_type": "code",
   "execution_count": 44,
   "id": "outside-elite",
   "metadata": {},
   "outputs": [],
   "source": [
    "# 데이터셋 생성\n",
    "dataset = MaskDataset(f'{path.train}/train_modified.csv')\n",
    "\n",
    "# 학습/검증 데이터셋으로 분리\n",
    "n_train = int(len(dataset)*0.8)\n",
    "n_valid = len(dataset)-n_train\n",
    "train_dataset, valid_dataset = random_split(dataset, [n_train, n_valid])\n",
    "\n",
    "# Augmentation 설정\n",
    "train_dataset.dataset.set_transform(train_transforms4)\n",
    "valid_dataset.dataset.set_transform(valid_transforms4)\n",
    "\n",
    "# 데이터로더 생성\n",
    "train_loader = DataLoader(train_dataset, batch_size=BATCH_SIZE, num_workers=NUM_WORKERS, shuffle=True)\n",
    "valid_loader = DataLoader(valid_dataset, shuffle=False)"
   ]
  },
  {
   "cell_type": "markdown",
   "id": "metallic-motel",
   "metadata": {},
   "source": [
    "### 2.5. Augmentation 5\n",
    "\n",
    "- RandomResizedCrop(224)\n",
    "- RandomHorizontalFlip\n",
    "- Color Jitter\n",
    "- ToTensor\n",
    "- Normalize"
   ]
  },
  {
   "cell_type": "code",
   "execution_count": 53,
   "id": "primary-drill",
   "metadata": {},
   "outputs": [],
   "source": [
    "train_transforms5 = transforms.Compose([\n",
    "    transforms.RandomResizedCrop(224),\n",
    "    transforms.RandomHorizontalFlip(p=0.5),\n",
    "    transforms.ColorJitter(brightness=0.5, saturation=0.5, hue=0.5),\n",
    "    transforms.ToTensor(),\n",
    "    transforms.Normalize(mean=[0.548, 0.504, 0.479], std=[0.237, 0.247, 0.246]),\n",
    "])"
   ]
  },
  {
   "cell_type": "code",
   "execution_count": 54,
   "id": "chronic-brush",
   "metadata": {},
   "outputs": [],
   "source": [
    "valid_transforms5 = transforms.Compose([\n",
    "    transforms.Resize(224),\n",
    "    transforms.CenterCrop(224),\n",
    "    transforms.ToTensor(),\n",
    "    transforms.Normalize(mean=[0.548, 0.504, 0.479], std=[0.237, 0.247, 0.246]),\n",
    "])"
   ]
  },
  {
   "cell_type": "code",
   "execution_count": 55,
   "id": "bottom-payment",
   "metadata": {},
   "outputs": [],
   "source": [
    "# 데이터셋 생성\n",
    "dataset = MaskDataset(f'{path.train}/train_modified.csv')\n",
    "\n",
    "# 학습/검증 데이터셋으로 분리\n",
    "n_train = int(len(dataset)*0.8)\n",
    "n_valid = len(dataset)-n_train\n",
    "train_dataset, valid_dataset = random_split(dataset, [n_train, n_valid])\n",
    "\n",
    "# Augmentation 설정\n",
    "train_dataset.dataset.set_transform(train_transforms5)\n",
    "valid_dataset.dataset.set_transform(valid_transforms5)\n",
    "\n",
    "# 데이터로더 생성\n",
    "train_loader = DataLoader(train_dataset, batch_size=BATCH_SIZE, num_workers=NUM_WORKERS, shuffle=True)\n",
    "valid_loader = DataLoader(valid_dataset, shuffle=False)"
   ]
  },
  {
   "cell_type": "markdown",
   "id": "every-divide",
   "metadata": {},
   "source": [
    "### 2.6. Augmentation 6\n",
    "- CenterCrop (384, 384)\n",
    "- Resize (224, 224)\n",
    "- RandomHorizontalFlip\n",
    "- Color Jitter\n",
    "- ToTensor\n",
    "- Normalize\n",
    "- AddGaussianNoise"
   ]
  },
  {
   "cell_type": "code",
   "execution_count": 59,
   "id": "unexpected-consultation",
   "metadata": {},
   "outputs": [],
   "source": [
    "class AddGaussianNoise(object):\n",
    "    def __init__(self, mean=0., std=1.):\n",
    "        self.std = std\n",
    "        self.mean = mean\n",
    "\n",
    "    def __call__(self, tensor):\n",
    "        return tensor + torch.randn(tensor.size()) * self.std + self.mean\n",
    "\n",
    "    def __repr__(self):\n",
    "        return self.__class__.__name__ + '(mean={0}, std={1})'.format(self.mean, self.std)"
   ]
  },
  {
   "cell_type": "code",
   "execution_count": 60,
   "id": "boring-account",
   "metadata": {},
   "outputs": [],
   "source": [
    "train_transforms6 = transforms.Compose([\n",
    "    transforms.CenterCrop(384),\n",
    "    transforms.Resize(224),\n",
    "    transforms.RandomHorizontalFlip(p=0.5),\n",
    "    transforms.ColorJitter(brightness=0.5, saturation=0.5, hue=0.5),\n",
    "    transforms.ToTensor(),\n",
    "    transforms.Normalize(mean=[0.548, 0.504, 0.479], std=[0.237, 0.247, 0.246]),\n",
    "    AddGaussianNoise(0., 1.,)\n",
    "])"
   ]
  },
  {
   "cell_type": "code",
   "execution_count": 61,
   "id": "wrapped-badge",
   "metadata": {},
   "outputs": [],
   "source": [
    "valid_transforms6 = transforms.Compose([\n",
    "    transforms.CenterCrop(384),\n",
    "    transforms.Resize(224),\n",
    "    transforms.ToTensor(),\n",
    "    transforms.Normalize(mean=[0.548, 0.504, 0.479], std=[0.237, 0.247, 0.246]),\n",
    "])"
   ]
  },
  {
   "cell_type": "code",
   "execution_count": 62,
   "id": "sensitive-paper",
   "metadata": {},
   "outputs": [],
   "source": [
    "# 데이터셋 생성\n",
    "dataset = MaskDataset(f'{path.train}/train_modified.csv')\n",
    "\n",
    "# 학습/검증 데이터셋으로 분리\n",
    "n_train = int(len(dataset)*0.8)\n",
    "n_valid = len(dataset)-n_train\n",
    "train_dataset, valid_dataset = random_split(dataset, [n_train, n_valid])\n",
    "\n",
    "# Augmentation 설정\n",
    "train_dataset.dataset.set_transform(train_transforms6)\n",
    "valid_dataset.dataset.set_transform(valid_transforms6)\n",
    "\n",
    "# 데이터로더 생성\n",
    "train_loader = DataLoader(train_dataset, batch_size=BATCH_SIZE, num_workers=NUM_WORKERS, shuffle=True)\n",
    "valid_loader = DataLoader(valid_dataset, shuffle=False)"
   ]
  },
  {
   "cell_type": "markdown",
   "id": "ancient-norfolk",
   "metadata": {},
   "source": [
    "### 2.6. Augmentation 7\n",
    "- CenterCrop (384, 384)\n",
    "- Resize (224, 224)\n",
    "- Color Jitter\n",
    "- ToTensor\n",
    "- Normalize\n",
    "- AddGaussianNoise"
   ]
  },
  {
   "cell_type": "code",
   "execution_count": 38,
   "id": "binary-evening",
   "metadata": {},
   "outputs": [],
   "source": [
    "class AddGaussianNoise(object):\n",
    "    def __init__(self, mean=0., std=1.):\n",
    "        self.std = std\n",
    "        self.mean = mean\n",
    "\n",
    "    def __call__(self, tensor):\n",
    "        return tensor + torch.randn(tensor.size()) * self.std + self.mean\n",
    "\n",
    "    def __repr__(self):\n",
    "        return self.__class__.__name__ + '(mean={0}, std={1})'.format(self.mean, self.std)"
   ]
  },
  {
   "cell_type": "code",
   "execution_count": 39,
   "id": "sonic-property",
   "metadata": {},
   "outputs": [],
   "source": [
    "train_transforms7 = transforms.Compose([\n",
    "    transforms.CenterCrop(384),\n",
    "    transforms.Resize(224),\n",
    "    transforms.ColorJitter(brightness=0.5, saturation=0.5, hue=0.5),\n",
    "    transforms.ToTensor(),\n",
    "    transforms.Normalize(mean=[0.548, 0.504, 0.479], std=[0.237, 0.247, 0.246]),\n",
    "    AddGaussianNoise(0., 1.,)\n",
    "])"
   ]
  },
  {
   "cell_type": "code",
   "execution_count": 41,
   "id": "stone-crisis",
   "metadata": {},
   "outputs": [],
   "source": [
    "valid_transforms7 = transforms.Compose([\n",
    "    transforms.CenterCrop(384),\n",
    "    transforms.Resize(224),\n",
    "    transforms.ToTensor(),\n",
    "    transforms.Normalize(mean=[0.548, 0.504, 0.479], std=[0.237, 0.247, 0.246]),\n",
    "])"
   ]
  },
  {
   "cell_type": "code",
   "execution_count": 42,
   "id": "ordinary-leadership",
   "metadata": {},
   "outputs": [],
   "source": [
    "# 데이터셋 생성\n",
    "dataset = MaskDataset(f'{path.train}/train_modified.csv')\n",
    "\n",
    "# 학습/검증 데이터셋으로 분리\n",
    "n_train = int(len(dataset)*0.8)\n",
    "n_valid = len(dataset)-n_train\n",
    "train_dataset, valid_dataset = random_split(dataset, [n_train, n_valid])\n",
    "\n",
    "# Augmentation 설정\n",
    "train_dataset.dataset.set_transform(train_transforms7)\n",
    "valid_dataset.dataset.set_transform(valid_transforms7)\n",
    "\n",
    "# 데이터로더 생성\n",
    "train_loader = DataLoader(train_dataset, batch_size=BATCH_SIZE, num_workers=NUM_WORKERS, shuffle=True)\n",
    "valid_loader = DataLoader(valid_dataset, shuffle=False)"
   ]
  },
  {
   "cell_type": "markdown",
   "id": "baking-falls",
   "metadata": {},
   "source": [
    "## 3. Compare Performance"
   ]
  },
  {
   "cell_type": "code",
   "execution_count": 33,
   "id": "indirect-condition",
   "metadata": {},
   "outputs": [],
   "source": [
    "def test_eval(model, valid_dataset, channel):\n",
    "    model.eval()\n",
    "    with torch.no_grad():\n",
    "        y_true, y_pred = [], []\n",
    "        for image, label in tqdm(valid_dataset):\n",
    "            X = image.float().to(device)\n",
    "            y = label.item()\n",
    "            _, pred = torch.max(model(X), 1)\n",
    "            pred = pred.item()\n",
    "            y_true.append(y)\n",
    "            y_pred.append(pred)\n",
    "        y_true, y_pred = np.array(y_true), np.array(y_pred)\n",
    "        f1 = f1_score(y_true, y_pred, average='macro')\n",
    "        accuracy = accuracy_score(y_true, y_pred)\n",
    "    model.train()\n",
    "    return f1, accuracy"
   ]
  },
  {
   "cell_type": "code",
   "execution_count": 34,
   "id": "exposed-arizona",
   "metadata": {},
   "outputs": [],
   "source": [
    "def train_model(train, test, channel, model, criterion, optimizer, print_every=1):\n",
    "    print(f\"============ Training Starts! ============\")\n",
    "    best_accuracy = 0\n",
    "    for epoch in range(EPOCHS):\n",
    "        loss_sum = 0\n",
    "        for images, label in tqdm(train):\n",
    "            X = images.float().to(device)\n",
    "            y = label.to(device)\n",
    "            \n",
    "            y_pred = model(X)\n",
    "            loss = criterion(y_pred, y)\n",
    "\n",
    "            optimizer.zero_grad()\n",
    "            loss.backward()\n",
    "            optimizer.step()\n",
    "          \n",
    "            loss_sum += loss\n",
    "          \n",
    "        if ((epoch%print_every)==0) or (epoch==(EPOCHS-1)):\n",
    "            loss_avg = loss_sum / len(train)\n",
    "            f1, accuracy = test_eval(model, test, channel)\n",
    "            print(f\">> epoch:[{epoch+1}/{EPOCHS}] cost:{loss_avg:5.3f} test_accuracy:{accuracy:5.3f} test_f1_score:{f1:5.3f}\") \n",
    "\n",
    "    print(f\"============ Training Done! ============\")  "
   ]
  },
  {
   "cell_type": "markdown",
   "id": "ambient-alaska",
   "metadata": {},
   "source": [
    "### 3.0. No Augmentation"
   ]
  },
  {
   "cell_type": "code",
   "execution_count": 35,
   "id": "based-issue",
   "metadata": {},
   "outputs": [],
   "source": [
    "model = models.resnet18(pretrained=False)\n",
    "n_features = model.fc.in_features\n",
    "model.fc = nn.Linear(n_features, 18)\n",
    "model = model.cuda()"
   ]
  },
  {
   "cell_type": "code",
   "execution_count": 36,
   "id": "concrete-newport",
   "metadata": {},
   "outputs": [],
   "source": [
    "optimizer = optim.Adam(model.parameters(), lr=LEARNING_RATE)\n",
    "criterion = nn.CrossEntropyLoss().to(device)"
   ]
  },
  {
   "cell_type": "code",
   "execution_count": 37,
   "id": "authorized-athletics",
   "metadata": {},
   "outputs": [
    {
     "name": "stdout",
     "output_type": "stream",
     "text": [
      "============ Training Starts! ============\n"
     ]
    },
    {
     "data": {
      "application/vnd.jupyter.widget-view+json": {
       "model_id": "aaae95f161c44a46bf20e8f6078d1525",
       "version_major": 2,
       "version_minor": 0
      },
      "text/plain": [
       "HBox(children=(FloatProgress(value=0.0, max=945.0), HTML(value='')))"
      ]
     },
     "metadata": {},
     "output_type": "display_data"
    },
    {
     "name": "stdout",
     "output_type": "stream",
     "text": [
      "\n"
     ]
    },
    {
     "data": {
      "application/vnd.jupyter.widget-view+json": {
       "model_id": "48343dcfbb6e4600b8fba287b67694c6",
       "version_major": 2,
       "version_minor": 0
      },
      "text/plain": [
       "HBox(children=(FloatProgress(value=0.0, max=3780.0), HTML(value='')))"
      ]
     },
     "metadata": {},
     "output_type": "display_data"
    },
    {
     "name": "stdout",
     "output_type": "stream",
     "text": [
      "\n",
      ">> epoch:[1/3] cost:1.306 test_accuracy:0.636 test_f1_score:0.373\n"
     ]
    },
    {
     "data": {
      "application/vnd.jupyter.widget-view+json": {
       "model_id": "1ba3ec68585c493482af768aa963c32f",
       "version_major": 2,
       "version_minor": 0
      },
      "text/plain": [
       "HBox(children=(FloatProgress(value=0.0, max=945.0), HTML(value='')))"
      ]
     },
     "metadata": {},
     "output_type": "display_data"
    },
    {
     "name": "stdout",
     "output_type": "stream",
     "text": [
      "\n"
     ]
    },
    {
     "data": {
      "application/vnd.jupyter.widget-view+json": {
       "model_id": "237a128296834c4da1a3f96436155c03",
       "version_major": 2,
       "version_minor": 0
      },
      "text/plain": [
       "HBox(children=(FloatProgress(value=0.0, max=3780.0), HTML(value='')))"
      ]
     },
     "metadata": {},
     "output_type": "display_data"
    },
    {
     "name": "stdout",
     "output_type": "stream",
     "text": [
      "\n",
      ">> epoch:[2/3] cost:0.625 test_accuracy:0.752 test_f1_score:0.540\n"
     ]
    },
    {
     "data": {
      "application/vnd.jupyter.widget-view+json": {
       "model_id": "cf988182c9a04794a362aa239cf4c3a1",
       "version_major": 2,
       "version_minor": 0
      },
      "text/plain": [
       "HBox(children=(FloatProgress(value=0.0, max=945.0), HTML(value='')))"
      ]
     },
     "metadata": {},
     "output_type": "display_data"
    },
    {
     "name": "stdout",
     "output_type": "stream",
     "text": [
      "\n"
     ]
    },
    {
     "data": {
      "application/vnd.jupyter.widget-view+json": {
       "model_id": "24571b8c416b45b18cbeb52ae04e224f",
       "version_major": 2,
       "version_minor": 0
      },
      "text/plain": [
       "HBox(children=(FloatProgress(value=0.0, max=3780.0), HTML(value='')))"
      ]
     },
     "metadata": {},
     "output_type": "display_data"
    },
    {
     "name": "stdout",
     "output_type": "stream",
     "text": [
      "\n",
      ">> epoch:[3/3] cost:0.452 test_accuracy:0.821 test_f1_score:0.726\n",
      "============ Training Done! ============\n"
     ]
    }
   ],
   "source": [
    "train_model(train_loader, valid_loader, 3, model, criterion, optimizer)"
   ]
  },
  {
   "cell_type": "markdown",
   "id": "speaking-warrant",
   "metadata": {},
   "source": [
    "### 3.1. Augmentation 1"
   ]
  },
  {
   "cell_type": "code",
   "execution_count": 11,
   "id": "historical-spain",
   "metadata": {},
   "outputs": [],
   "source": [
    "model1 = models.resnet18(pretrained=False)\n",
    "n_features = model1.fc.in_features\n",
    "model1.fc = nn.Linear(n_features, 18)\n",
    "model1 = model1.cuda()"
   ]
  },
  {
   "cell_type": "code",
   "execution_count": 12,
   "id": "loaded-debut",
   "metadata": {},
   "outputs": [],
   "source": [
    "optimizer1 = optim.Adam(model1.parameters(), lr=LEARNING_RATE)\n",
    "criterion1 = nn.CrossEntropyLoss().to(device)"
   ]
  },
  {
   "cell_type": "code",
   "execution_count": 13,
   "id": "indonesian-running",
   "metadata": {},
   "outputs": [
    {
     "name": "stdout",
     "output_type": "stream",
     "text": [
      "============ Training Starts! ============\n"
     ]
    },
    {
     "data": {
      "application/vnd.jupyter.widget-view+json": {
       "model_id": "4698fc3888e94a6c9dfbbb26d5e2c35f",
       "version_major": 2,
       "version_minor": 0
      },
      "text/plain": [
       "HBox(children=(FloatProgress(value=0.0, max=945.0), HTML(value='')))"
      ]
     },
     "metadata": {},
     "output_type": "display_data"
    },
    {
     "name": "stdout",
     "output_type": "stream",
     "text": [
      "\n"
     ]
    },
    {
     "data": {
      "application/vnd.jupyter.widget-view+json": {
       "model_id": "3680e94b3dee4eaea4909bbb41b500bd",
       "version_major": 2,
       "version_minor": 0
      },
      "text/plain": [
       "HBox(children=(FloatProgress(value=0.0, max=3780.0), HTML(value='')))"
      ]
     },
     "metadata": {},
     "output_type": "display_data"
    },
    {
     "name": "stdout",
     "output_type": "stream",
     "text": [
      "\n",
      ">> epoch:[1/3] cost:1.096 test_accuracy:0.709 test_f1_score:0.511\n"
     ]
    },
    {
     "data": {
      "application/vnd.jupyter.widget-view+json": {
       "model_id": "c511b6eaef2b429894a6653ef1c99a1a",
       "version_major": 2,
       "version_minor": 0
      },
      "text/plain": [
       "HBox(children=(FloatProgress(value=0.0, max=945.0), HTML(value='')))"
      ]
     },
     "metadata": {},
     "output_type": "display_data"
    },
    {
     "name": "stdout",
     "output_type": "stream",
     "text": [
      "\n"
     ]
    },
    {
     "data": {
      "application/vnd.jupyter.widget-view+json": {
       "model_id": "19c2f57d910642ebb94767263077c184",
       "version_major": 2,
       "version_minor": 0
      },
      "text/plain": [
       "HBox(children=(FloatProgress(value=0.0, max=3780.0), HTML(value='')))"
      ]
     },
     "metadata": {},
     "output_type": "display_data"
    },
    {
     "name": "stdout",
     "output_type": "stream",
     "text": [
      "\n",
      ">> epoch:[2/3] cost:0.589 test_accuracy:0.821 test_f1_score:0.714\n"
     ]
    },
    {
     "data": {
      "application/vnd.jupyter.widget-view+json": {
       "model_id": "adc840234eaa47988dfd2304fb6686a8",
       "version_major": 2,
       "version_minor": 0
      },
      "text/plain": [
       "HBox(children=(FloatProgress(value=0.0, max=945.0), HTML(value='')))"
      ]
     },
     "metadata": {},
     "output_type": "display_data"
    },
    {
     "name": "stdout",
     "output_type": "stream",
     "text": [
      "\n"
     ]
    },
    {
     "data": {
      "application/vnd.jupyter.widget-view+json": {
       "model_id": "a500ea52fa3e4e718854653e0e29716d",
       "version_major": 2,
       "version_minor": 0
      },
      "text/plain": [
       "HBox(children=(FloatProgress(value=0.0, max=3780.0), HTML(value='')))"
      ]
     },
     "metadata": {},
     "output_type": "display_data"
    },
    {
     "name": "stdout",
     "output_type": "stream",
     "text": [
      "\n",
      ">> epoch:[3/3] cost:0.441 test_accuracy:0.837 test_f1_score:0.657\n",
      "============ Training Done! ============\n"
     ]
    }
   ],
   "source": [
    "train_model(train_loader, valid_loader, 3, model1, criterion1, optimizer1)"
   ]
  },
  {
   "cell_type": "markdown",
   "id": "straight-terrorist",
   "metadata": {},
   "source": [
    "### 3.2. Augmentation 2"
   ]
  },
  {
   "cell_type": "code",
   "execution_count": 17,
   "id": "exposed-inflation",
   "metadata": {},
   "outputs": [],
   "source": [
    "model2 = models.resnet18(pretrained=False)\n",
    "n_features = model2.fc.in_features\n",
    "model2.fc = nn.Linear(n_features, 18)\n",
    "model2 = model2.cuda()"
   ]
  },
  {
   "cell_type": "code",
   "execution_count": 18,
   "id": "level-mailman",
   "metadata": {},
   "outputs": [],
   "source": [
    "optimizer2 = optim.Adam(model2.parameters(), lr=LEARNING_RATE)\n",
    "criterion2 = nn.CrossEntropyLoss().to(device)"
   ]
  },
  {
   "cell_type": "code",
   "execution_count": 19,
   "id": "automotive-straight",
   "metadata": {},
   "outputs": [
    {
     "name": "stdout",
     "output_type": "stream",
     "text": [
      "============ Training Starts! ============\n"
     ]
    },
    {
     "data": {
      "application/vnd.jupyter.widget-view+json": {
       "model_id": "823f00b3a7b14dcbbfb1d1bb735debbd",
       "version_major": 2,
       "version_minor": 0
      },
      "text/plain": [
       "HBox(children=(FloatProgress(value=0.0, max=945.0), HTML(value='')))"
      ]
     },
     "metadata": {},
     "output_type": "display_data"
    },
    {
     "name": "stdout",
     "output_type": "stream",
     "text": [
      "\n"
     ]
    },
    {
     "data": {
      "application/vnd.jupyter.widget-view+json": {
       "model_id": "495752d34d8f4f598d617b55f05390e6",
       "version_major": 2,
       "version_minor": 0
      },
      "text/plain": [
       "HBox(children=(FloatProgress(value=0.0, max=3780.0), HTML(value='')))"
      ]
     },
     "metadata": {},
     "output_type": "display_data"
    },
    {
     "name": "stdout",
     "output_type": "stream",
     "text": [
      "\n",
      ">> epoch:[1/3] cost:1.083 test_accuracy:0.699 test_f1_score:0.529\n"
     ]
    },
    {
     "data": {
      "application/vnd.jupyter.widget-view+json": {
       "model_id": "d246b7ad14db4e5dbd7729e4753250aa",
       "version_major": 2,
       "version_minor": 0
      },
      "text/plain": [
       "HBox(children=(FloatProgress(value=0.0, max=945.0), HTML(value='')))"
      ]
     },
     "metadata": {},
     "output_type": "display_data"
    },
    {
     "name": "stdout",
     "output_type": "stream",
     "text": [
      "\n"
     ]
    },
    {
     "data": {
      "application/vnd.jupyter.widget-view+json": {
       "model_id": "2d2a71ab01ed489cab02c88fe7ae6dca",
       "version_major": 2,
       "version_minor": 0
      },
      "text/plain": [
       "HBox(children=(FloatProgress(value=0.0, max=3780.0), HTML(value='')))"
      ]
     },
     "metadata": {},
     "output_type": "display_data"
    },
    {
     "name": "stdout",
     "output_type": "stream",
     "text": [
      "\n",
      ">> epoch:[2/3] cost:0.522 test_accuracy:0.838 test_f1_score:0.686\n"
     ]
    },
    {
     "data": {
      "application/vnd.jupyter.widget-view+json": {
       "model_id": "ac78ad108ba043b0bd854746ef5d95f5",
       "version_major": 2,
       "version_minor": 0
      },
      "text/plain": [
       "HBox(children=(FloatProgress(value=0.0, max=945.0), HTML(value='')))"
      ]
     },
     "metadata": {},
     "output_type": "display_data"
    },
    {
     "name": "stdout",
     "output_type": "stream",
     "text": [
      "\n"
     ]
    },
    {
     "data": {
      "application/vnd.jupyter.widget-view+json": {
       "model_id": "4fe46562fed743bd9c6ce27bd4dc6c8c",
       "version_major": 2,
       "version_minor": 0
      },
      "text/plain": [
       "HBox(children=(FloatProgress(value=0.0, max=3780.0), HTML(value='')))"
      ]
     },
     "metadata": {},
     "output_type": "display_data"
    },
    {
     "name": "stdout",
     "output_type": "stream",
     "text": [
      "\n",
      ">> epoch:[3/3] cost:0.353 test_accuracy:0.843 test_f1_score:0.711\n",
      "============ Training Done! ============\n"
     ]
    }
   ],
   "source": [
    "train_model(train_loader, valid_loader, 3, model2, criterion2, optimizer2)"
   ]
  },
  {
   "cell_type": "markdown",
   "id": "occupied-beach",
   "metadata": {},
   "source": [
    "### 3.3. Augmentation 3"
   ]
  },
  {
   "cell_type": "code",
   "execution_count": 34,
   "id": "front-richardson",
   "metadata": {},
   "outputs": [],
   "source": [
    "model3 = models.resnet18(pretrained=False)\n",
    "n_features = model3.fc.in_features\n",
    "model3.conv1 = nn.Conv2d(1, 64, kernel_size=(7, 7), stride=(2, 2), padding=(3, 3), bias=False)\n",
    "model3.fc = nn.Linear(n_features, 18)\n",
    "model3 = model3.cuda()"
   ]
  },
  {
   "cell_type": "code",
   "execution_count": 35,
   "id": "lasting-modem",
   "metadata": {},
   "outputs": [],
   "source": [
    "optimizer3 = optim.Adam(model3.parameters(), lr=LEARNING_RATE)\n",
    "criterion3 = nn.CrossEntropyLoss().to(device)"
   ]
  },
  {
   "cell_type": "code",
   "execution_count": 36,
   "id": "becoming-ideal",
   "metadata": {},
   "outputs": [
    {
     "name": "stdout",
     "output_type": "stream",
     "text": [
      "============ Training Starts! ============\n"
     ]
    },
    {
     "data": {
      "application/vnd.jupyter.widget-view+json": {
       "model_id": "4721fcafa4874a428611a043869e965f",
       "version_major": 2,
       "version_minor": 0
      },
      "text/plain": [
       "HBox(children=(FloatProgress(value=0.0, max=945.0), HTML(value='')))"
      ]
     },
     "metadata": {},
     "output_type": "display_data"
    },
    {
     "name": "stdout",
     "output_type": "stream",
     "text": [
      "\n"
     ]
    },
    {
     "data": {
      "application/vnd.jupyter.widget-view+json": {
       "model_id": "f83492d819fe4ba98ac2b88fe5adf7b1",
       "version_major": 2,
       "version_minor": 0
      },
      "text/plain": [
       "HBox(children=(FloatProgress(value=0.0, max=3780.0), HTML(value='')))"
      ]
     },
     "metadata": {},
     "output_type": "display_data"
    },
    {
     "name": "stdout",
     "output_type": "stream",
     "text": [
      "\n",
      ">> epoch:[1/3] cost:1.187 test_accuracy:0.685 test_f1_score:0.498\n"
     ]
    },
    {
     "data": {
      "application/vnd.jupyter.widget-view+json": {
       "model_id": "382a54c4df904a74b1c1dabeaa3e1b4d",
       "version_major": 2,
       "version_minor": 0
      },
      "text/plain": [
       "HBox(children=(FloatProgress(value=0.0, max=945.0), HTML(value='')))"
      ]
     },
     "metadata": {},
     "output_type": "display_data"
    },
    {
     "name": "stdout",
     "output_type": "stream",
     "text": [
      "\n"
     ]
    },
    {
     "data": {
      "application/vnd.jupyter.widget-view+json": {
       "model_id": "5fe33ecb699445baa4ba84a0eb61d920",
       "version_major": 2,
       "version_minor": 0
      },
      "text/plain": [
       "HBox(children=(FloatProgress(value=0.0, max=3780.0), HTML(value='')))"
      ]
     },
     "metadata": {},
     "output_type": "display_data"
    },
    {
     "name": "stdout",
     "output_type": "stream",
     "text": [
      "\n",
      ">> epoch:[2/3] cost:0.533 test_accuracy:0.843 test_f1_score:0.725\n"
     ]
    },
    {
     "data": {
      "application/vnd.jupyter.widget-view+json": {
       "model_id": "74efc368f98947e6ac6b6a91041bbb85",
       "version_major": 2,
       "version_minor": 0
      },
      "text/plain": [
       "HBox(children=(FloatProgress(value=0.0, max=945.0), HTML(value='')))"
      ]
     },
     "metadata": {},
     "output_type": "display_data"
    },
    {
     "name": "stdout",
     "output_type": "stream",
     "text": [
      "\n"
     ]
    },
    {
     "data": {
      "application/vnd.jupyter.widget-view+json": {
       "model_id": "9a603f82a7dc446f9bc9e2e08785a3ff",
       "version_major": 2,
       "version_minor": 0
      },
      "text/plain": [
       "HBox(children=(FloatProgress(value=0.0, max=3780.0), HTML(value='')))"
      ]
     },
     "metadata": {},
     "output_type": "display_data"
    },
    {
     "name": "stdout",
     "output_type": "stream",
     "text": [
      "\n",
      ">> epoch:[3/3] cost:0.346 test_accuracy:0.707 test_f1_score:0.661\n",
      "============ Training Done! ============\n"
     ]
    }
   ],
   "source": [
    "train_model(train_loader, valid_loader, 1, model3, criterion3, optimizer3)"
   ]
  },
  {
   "cell_type": "markdown",
   "id": "clean-hayes",
   "metadata": {},
   "source": [
    "### 3.4. Augmentation 4"
   ]
  },
  {
   "cell_type": "code",
   "execution_count": 45,
   "id": "pretty-thread",
   "metadata": {},
   "outputs": [],
   "source": [
    "model4 = models.resnet18(pretrained=False)\n",
    "n_features = model4.fc.in_features\n",
    "model4.fc = nn.Linear(n_features, 18)\n",
    "model4 = model4.cuda()"
   ]
  },
  {
   "cell_type": "code",
   "execution_count": 46,
   "id": "recreational-ghana",
   "metadata": {},
   "outputs": [],
   "source": [
    "optimizer4 = optim.Adam(model4.parameters(), lr=LEARNING_RATE)\n",
    "criterion4 = nn.CrossEntropyLoss().to(device)"
   ]
  },
  {
   "cell_type": "code",
   "execution_count": 47,
   "id": "southeast-lawsuit",
   "metadata": {},
   "outputs": [
    {
     "name": "stdout",
     "output_type": "stream",
     "text": [
      "============ Training Starts! ============\n"
     ]
    },
    {
     "data": {
      "application/vnd.jupyter.widget-view+json": {
       "model_id": "c495a27333af4187a87e28856d6989d7",
       "version_major": 2,
       "version_minor": 0
      },
      "text/plain": [
       "HBox(children=(FloatProgress(value=0.0, max=945.0), HTML(value='')))"
      ]
     },
     "metadata": {},
     "output_type": "display_data"
    },
    {
     "name": "stdout",
     "output_type": "stream",
     "text": [
      "\n"
     ]
    },
    {
     "data": {
      "application/vnd.jupyter.widget-view+json": {
       "model_id": "9329f6ac679c48878a1b469af40fb175",
       "version_major": 2,
       "version_minor": 0
      },
      "text/plain": [
       "HBox(children=(FloatProgress(value=0.0, max=3780.0), HTML(value='')))"
      ]
     },
     "metadata": {},
     "output_type": "display_data"
    },
    {
     "name": "stdout",
     "output_type": "stream",
     "text": [
      "\n",
      ">> epoch:[1/3] cost:1.089 test_accuracy:0.770 test_f1_score:0.559\n"
     ]
    },
    {
     "data": {
      "application/vnd.jupyter.widget-view+json": {
       "model_id": "e37b5a9ab5e646539a9a283e044d7cb1",
       "version_major": 2,
       "version_minor": 0
      },
      "text/plain": [
       "HBox(children=(FloatProgress(value=0.0, max=945.0), HTML(value='')))"
      ]
     },
     "metadata": {},
     "output_type": "display_data"
    },
    {
     "name": "stdout",
     "output_type": "stream",
     "text": [
      "\n"
     ]
    },
    {
     "data": {
      "application/vnd.jupyter.widget-view+json": {
       "model_id": "20bdf5b652504579b4bf4e264a2ac138",
       "version_major": 2,
       "version_minor": 0
      },
      "text/plain": [
       "HBox(children=(FloatProgress(value=0.0, max=3780.0), HTML(value='')))"
      ]
     },
     "metadata": {},
     "output_type": "display_data"
    },
    {
     "name": "stdout",
     "output_type": "stream",
     "text": [
      "\n",
      ">> epoch:[2/3] cost:0.540 test_accuracy:0.837 test_f1_score:0.696\n"
     ]
    },
    {
     "data": {
      "application/vnd.jupyter.widget-view+json": {
       "model_id": "6ac1e5b854864fda8f86e30721b6594f",
       "version_major": 2,
       "version_minor": 0
      },
      "text/plain": [
       "HBox(children=(FloatProgress(value=0.0, max=945.0), HTML(value='')))"
      ]
     },
     "metadata": {},
     "output_type": "display_data"
    },
    {
     "name": "stdout",
     "output_type": "stream",
     "text": [
      "\n"
     ]
    },
    {
     "data": {
      "application/vnd.jupyter.widget-view+json": {
       "model_id": "d6a66de3ae7d4ef5a1703fcbd98f54b7",
       "version_major": 2,
       "version_minor": 0
      },
      "text/plain": [
       "HBox(children=(FloatProgress(value=0.0, max=3780.0), HTML(value='')))"
      ]
     },
     "metadata": {},
     "output_type": "display_data"
    },
    {
     "name": "stdout",
     "output_type": "stream",
     "text": [
      "\n",
      ">> epoch:[3/3] cost:0.386 test_accuracy:0.868 test_f1_score:0.729\n",
      "============ Training Done! ============\n"
     ]
    }
   ],
   "source": [
    "train_model(train_loader, valid_loader, 3, model4, criterion4, optimizer4)"
   ]
  },
  {
   "cell_type": "markdown",
   "id": "about-violation",
   "metadata": {},
   "source": [
    "### 3.5. Augmentation 5"
   ]
  },
  {
   "cell_type": "code",
   "execution_count": 56,
   "id": "above-aspect",
   "metadata": {},
   "outputs": [],
   "source": [
    "model5 = models.resnet18(pretrained=False)\n",
    "n_features = model5.fc.in_features\n",
    "model5.fc = nn.Linear(n_features, 18)\n",
    "model5 = model5.cuda()"
   ]
  },
  {
   "cell_type": "code",
   "execution_count": 57,
   "id": "elegant-humanity",
   "metadata": {},
   "outputs": [],
   "source": [
    "optimizer5 = optim.Adam(model5.parameters(), lr=LEARNING_RATE)\n",
    "criterion5 = nn.CrossEntropyLoss().to(device)"
   ]
  },
  {
   "cell_type": "code",
   "execution_count": 58,
   "id": "charitable-timothy",
   "metadata": {},
   "outputs": [
    {
     "name": "stdout",
     "output_type": "stream",
     "text": [
      "============ Training Starts! ============\n"
     ]
    },
    {
     "data": {
      "application/vnd.jupyter.widget-view+json": {
       "model_id": "9b5b3037737246f7ae85d1ea86d1431e",
       "version_major": 2,
       "version_minor": 0
      },
      "text/plain": [
       "HBox(children=(FloatProgress(value=0.0, max=945.0), HTML(value='')))"
      ]
     },
     "metadata": {},
     "output_type": "display_data"
    },
    {
     "name": "stdout",
     "output_type": "stream",
     "text": [
      "\n"
     ]
    },
    {
     "data": {
      "application/vnd.jupyter.widget-view+json": {
       "model_id": "4b21c9fc81f44a04a969b99babec8a41",
       "version_major": 2,
       "version_minor": 0
      },
      "text/plain": [
       "HBox(children=(FloatProgress(value=0.0, max=3780.0), HTML(value='')))"
      ]
     },
     "metadata": {},
     "output_type": "display_data"
    },
    {
     "name": "stdout",
     "output_type": "stream",
     "text": [
      "\n",
      ">> epoch:[1/3] cost:1.119 test_accuracy:0.748 test_f1_score:0.556\n"
     ]
    },
    {
     "data": {
      "application/vnd.jupyter.widget-view+json": {
       "model_id": "177c960cfa674a49916f96cdf3d93afa",
       "version_major": 2,
       "version_minor": 0
      },
      "text/plain": [
       "HBox(children=(FloatProgress(value=0.0, max=945.0), HTML(value='')))"
      ]
     },
     "metadata": {},
     "output_type": "display_data"
    },
    {
     "name": "stdout",
     "output_type": "stream",
     "text": [
      "\n"
     ]
    },
    {
     "data": {
      "application/vnd.jupyter.widget-view+json": {
       "model_id": "71ff6c897c604ad9a2df33c4493ca230",
       "version_major": 2,
       "version_minor": 0
      },
      "text/plain": [
       "HBox(children=(FloatProgress(value=0.0, max=3780.0), HTML(value='')))"
      ]
     },
     "metadata": {},
     "output_type": "display_data"
    },
    {
     "name": "stdout",
     "output_type": "stream",
     "text": [
      "\n",
      ">> epoch:[2/3] cost:0.557 test_accuracy:0.675 test_f1_score:0.570\n"
     ]
    },
    {
     "data": {
      "application/vnd.jupyter.widget-view+json": {
       "model_id": "2f1a861bb7704580b73842b040dad4e7",
       "version_major": 2,
       "version_minor": 0
      },
      "text/plain": [
       "HBox(children=(FloatProgress(value=0.0, max=945.0), HTML(value='')))"
      ]
     },
     "metadata": {},
     "output_type": "display_data"
    },
    {
     "name": "stdout",
     "output_type": "stream",
     "text": [
      "\n"
     ]
    },
    {
     "data": {
      "application/vnd.jupyter.widget-view+json": {
       "model_id": "1b85a7be5b7a4b67bb24f6d3db2b875c",
       "version_major": 2,
       "version_minor": 0
      },
      "text/plain": [
       "HBox(children=(FloatProgress(value=0.0, max=3780.0), HTML(value='')))"
      ]
     },
     "metadata": {},
     "output_type": "display_data"
    },
    {
     "name": "stdout",
     "output_type": "stream",
     "text": [
      "\n",
      ">> epoch:[3/3] cost:0.381 test_accuracy:0.766 test_f1_score:0.653\n",
      "============ Training Done! ============\n"
     ]
    }
   ],
   "source": [
    "train_model(train_loader, valid_loader, 3, model5, criterion5, optimizer5)"
   ]
  },
  {
   "cell_type": "markdown",
   "id": "hindu-analysis",
   "metadata": {},
   "source": [
    "### 3.6. Augmentation 6"
   ]
  },
  {
   "cell_type": "code",
   "execution_count": 64,
   "id": "modified-emphasis",
   "metadata": {},
   "outputs": [],
   "source": [
    "model6 = models.resnet18(pretrained=False)\n",
    "n_features = model6.fc.in_features\n",
    "model6.fc = nn.Linear(n_features, 18)\n",
    "model6 = model6.cuda()"
   ]
  },
  {
   "cell_type": "code",
   "execution_count": 65,
   "id": "functioning-trinity",
   "metadata": {},
   "outputs": [],
   "source": [
    "optimizer6 = optim.Adam(model6.parameters(), lr=LEARNING_RATE)\n",
    "criterion6 = nn.CrossEntropyLoss().to(device)"
   ]
  },
  {
   "cell_type": "code",
   "execution_count": 66,
   "id": "convenient-automation",
   "metadata": {},
   "outputs": [
    {
     "name": "stdout",
     "output_type": "stream",
     "text": [
      "============ Training Starts! ============\n"
     ]
    },
    {
     "data": {
      "application/vnd.jupyter.widget-view+json": {
       "model_id": "4beacdfc6ef444fd8c0e7dbc61462a41",
       "version_major": 2,
       "version_minor": 0
      },
      "text/plain": [
       "HBox(children=(FloatProgress(value=0.0, max=945.0), HTML(value='')))"
      ]
     },
     "metadata": {},
     "output_type": "display_data"
    },
    {
     "name": "stdout",
     "output_type": "stream",
     "text": [
      "\n"
     ]
    },
    {
     "data": {
      "application/vnd.jupyter.widget-view+json": {
       "model_id": "43c296611fe1437fafc81b23dc9a8733",
       "version_major": 2,
       "version_minor": 0
      },
      "text/plain": [
       "HBox(children=(FloatProgress(value=0.0, max=3780.0), HTML(value='')))"
      ]
     },
     "metadata": {},
     "output_type": "display_data"
    },
    {
     "name": "stdout",
     "output_type": "stream",
     "text": [
      "\n",
      ">> epoch:[1/3] cost:1.077 test_accuracy:0.761 test_f1_score:0.562\n"
     ]
    },
    {
     "data": {
      "application/vnd.jupyter.widget-view+json": {
       "model_id": "ed28786cb9cc4bb28bb56d93b798d7b4",
       "version_major": 2,
       "version_minor": 0
      },
      "text/plain": [
       "HBox(children=(FloatProgress(value=0.0, max=945.0), HTML(value='')))"
      ]
     },
     "metadata": {},
     "output_type": "display_data"
    },
    {
     "name": "stdout",
     "output_type": "stream",
     "text": [
      "\n"
     ]
    },
    {
     "data": {
      "application/vnd.jupyter.widget-view+json": {
       "model_id": "7ea357163e3b4330bd9316b2e7fcf282",
       "version_major": 2,
       "version_minor": 0
      },
      "text/plain": [
       "HBox(children=(FloatProgress(value=0.0, max=3780.0), HTML(value='')))"
      ]
     },
     "metadata": {},
     "output_type": "display_data"
    },
    {
     "name": "stdout",
     "output_type": "stream",
     "text": [
      "\n",
      ">> epoch:[2/3] cost:0.534 test_accuracy:0.847 test_f1_score:0.732\n"
     ]
    },
    {
     "data": {
      "application/vnd.jupyter.widget-view+json": {
       "model_id": "7871d2dacfbe4afca376eb7aab8fba90",
       "version_major": 2,
       "version_minor": 0
      },
      "text/plain": [
       "HBox(children=(FloatProgress(value=0.0, max=945.0), HTML(value='')))"
      ]
     },
     "metadata": {},
     "output_type": "display_data"
    },
    {
     "name": "stdout",
     "output_type": "stream",
     "text": [
      "\n"
     ]
    },
    {
     "data": {
      "application/vnd.jupyter.widget-view+json": {
       "model_id": "d10cb5b46be94a258362901f59557922",
       "version_major": 2,
       "version_minor": 0
      },
      "text/plain": [
       "HBox(children=(FloatProgress(value=0.0, max=3780.0), HTML(value='')))"
      ]
     },
     "metadata": {},
     "output_type": "display_data"
    },
    {
     "name": "stdout",
     "output_type": "stream",
     "text": [
      "\n",
      ">> epoch:[3/3] cost:0.370 test_accuracy:0.856 test_f1_score:0.772\n",
      "============ Training Done! ============\n"
     ]
    }
   ],
   "source": [
    "train_model(train_loader, valid_loader, 3, model6, criterion6, optimizer6)"
   ]
  },
  {
   "cell_type": "markdown",
   "id": "underlying-timeline",
   "metadata": {},
   "source": [
    "### 3.7. Augmentation 7"
   ]
  },
  {
   "cell_type": "code",
   "execution_count": 43,
   "id": "olive-approval",
   "metadata": {},
   "outputs": [],
   "source": [
    "model7 = models.resnet18(pretrained=False)\n",
    "n_features = model7.fc.in_features\n",
    "model7.fc = nn.Linear(n_features, 18)\n",
    "model7 = model7.cuda()"
   ]
  },
  {
   "cell_type": "code",
   "execution_count": 44,
   "id": "surface-denver",
   "metadata": {},
   "outputs": [],
   "source": [
    "optimizer7 = optim.Adam(model7.parameters(), lr=LEARNING_RATE)\n",
    "criterion7 = nn.CrossEntropyLoss().to(device)"
   ]
  },
  {
   "cell_type": "code",
   "execution_count": 45,
   "id": "preliminary-january",
   "metadata": {},
   "outputs": [
    {
     "name": "stdout",
     "output_type": "stream",
     "text": [
      "============ Training Starts! ============\n"
     ]
    },
    {
     "data": {
      "application/vnd.jupyter.widget-view+json": {
       "model_id": "a379b9bddc694107ab2bc38c7e7dbeab",
       "version_major": 2,
       "version_minor": 0
      },
      "text/plain": [
       "HBox(children=(FloatProgress(value=0.0, max=945.0), HTML(value='')))"
      ]
     },
     "metadata": {},
     "output_type": "display_data"
    },
    {
     "name": "stdout",
     "output_type": "stream",
     "text": [
      "\n"
     ]
    },
    {
     "data": {
      "application/vnd.jupyter.widget-view+json": {
       "model_id": "f07e03d59fe149a0866f23064755a70e",
       "version_major": 2,
       "version_minor": 0
      },
      "text/plain": [
       "HBox(children=(FloatProgress(value=0.0, max=3780.0), HTML(value='')))"
      ]
     },
     "metadata": {},
     "output_type": "display_data"
    },
    {
     "name": "stdout",
     "output_type": "stream",
     "text": [
      "\n",
      ">> epoch:[1/3] cost:1.078 test_accuracy:0.721 test_f1_score:0.477\n"
     ]
    },
    {
     "data": {
      "application/vnd.jupyter.widget-view+json": {
       "model_id": "c6897e37a4b64147967ceddede82d5f4",
       "version_major": 2,
       "version_minor": 0
      },
      "text/plain": [
       "HBox(children=(FloatProgress(value=0.0, max=945.0), HTML(value='')))"
      ]
     },
     "metadata": {},
     "output_type": "display_data"
    },
    {
     "name": "stdout",
     "output_type": "stream",
     "text": [
      "\n"
     ]
    },
    {
     "data": {
      "application/vnd.jupyter.widget-view+json": {
       "model_id": "3d539df81a0b446b9b5a489b3b5e364b",
       "version_major": 2,
       "version_minor": 0
      },
      "text/plain": [
       "HBox(children=(FloatProgress(value=0.0, max=3780.0), HTML(value='')))"
      ]
     },
     "metadata": {},
     "output_type": "display_data"
    },
    {
     "name": "stdout",
     "output_type": "stream",
     "text": [
      "\n",
      ">> epoch:[2/3] cost:0.536 test_accuracy:0.819 test_f1_score:0.632\n"
     ]
    },
    {
     "data": {
      "application/vnd.jupyter.widget-view+json": {
       "model_id": "46e736af9b6c4dd89ee094c8d3a21490",
       "version_major": 2,
       "version_minor": 0
      },
      "text/plain": [
       "HBox(children=(FloatProgress(value=0.0, max=945.0), HTML(value='')))"
      ]
     },
     "metadata": {},
     "output_type": "display_data"
    },
    {
     "name": "stdout",
     "output_type": "stream",
     "text": [
      "\n"
     ]
    },
    {
     "data": {
      "application/vnd.jupyter.widget-view+json": {
       "model_id": "b63d1277a6e2425da0cac5faf9112334",
       "version_major": 2,
       "version_minor": 0
      },
      "text/plain": [
       "HBox(children=(FloatProgress(value=0.0, max=3780.0), HTML(value='')))"
      ]
     },
     "metadata": {},
     "output_type": "display_data"
    },
    {
     "name": "stdout",
     "output_type": "stream",
     "text": [
      "\n",
      ">> epoch:[3/3] cost:0.375 test_accuracy:0.878 test_f1_score:0.745\n",
      "============ Training Done! ============\n"
     ]
    }
   ],
   "source": [
    "train_model(train_loader, valid_loader, 3, model7, criterion7, optimizer7)"
   ]
  }
 ],
 "metadata": {
  "kernelspec": {
   "display_name": "Python 3",
   "language": "python",
   "name": "python3"
  },
  "language_info": {
   "codemirror_mode": {
    "name": "ipython",
    "version": 3
   },
   "file_extension": ".py",
   "mimetype": "text/x-python",
   "name": "python",
   "nbconvert_exporter": "python",
   "pygments_lexer": "ipython3",
   "version": "3.7.7"
  },
  "toc-showtags": false
 },
 "nbformat": 4,
 "nbformat_minor": 5
}
