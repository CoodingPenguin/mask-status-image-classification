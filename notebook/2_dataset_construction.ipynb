{
 "cells": [
  {
   "cell_type": "markdown",
   "metadata": {},
   "source": [
    "# Dataset Construction"
   ]
  },
  {
   "cell_type": "code",
   "execution_count": 13,
   "metadata": {},
   "outputs": [
    {
     "name": "stdout",
     "output_type": "stream",
     "text": [
      "Pytorch version: 1.6.0\n",
      "This notebook use cuda:0\n"
     ]
    }
   ],
   "source": [
    "import os\n",
    "import sys\n",
    "import pickle\n",
    "from glob import glob\n",
    "from time import time\n",
    "from tqdm import tqdm\n",
    "from collections import Counter\n",
    "\n",
    "# data processing\n",
    "import cv2\n",
    "import numpy as np\n",
    "import pandas as pd\n",
    "\n",
    "# data visualization\n",
    "import matplotlib.pyplot as plt\n",
    "import seaborn as sns\n",
    "from PIL import Image\n",
    "%matplotlib inline\n",
    "\n",
    "# pytorch\n",
    "import torch\n",
    "from torch import nn, optim\n",
    "from torch.nn import functional as F\n",
    "from torchvision import datasets, transforms, models, utils\n",
    "from torch.utils.data import Dataset, DataLoader, random_split\n",
    "print(f'Pytorch version: {torch.__version__}')\n",
    "\n",
    "# device setting\n",
    "device = torch.device('cuda:0' if torch.cuda.is_available() else 'cpu')\n",
    "print(f'This notebook use {device}')\n",
    "\n",
    "# ignore warnings\n",
    "import warnings\n",
    "warnings.filterwarnings('ignore')"
   ]
  },
  {
   "cell_type": "code",
   "execution_count": 14,
   "metadata": {},
   "outputs": [
    {
     "name": "stdout",
     "output_type": "stream",
     "text": [
      "/opt/ml/code\n"
     ]
    }
   ],
   "source": [
    "!pwd"
   ]
  },
  {
   "cell_type": "code",
   "execution_count": 15,
   "metadata": {},
   "outputs": [],
   "source": [
    "# 파일 경로 사용자 정의\n",
    "class path:\n",
    "    data = '../input/data'\n",
    "    train = '../input/data/train'\n",
    "    train_img = f'{train}/images'\n",
    "    train_df = f'{train}/train.csv'\n",
    "    test = '../input/data/eval'\n",
    "    test_img = f'{test}/images'\n",
    "    test_df = f'{test}/info.csv'"
   ]
  },
  {
   "cell_type": "markdown",
   "metadata": {},
   "source": [
    "## 1. Check file extensions"
   ]
  },
  {
   "cell_type": "markdown",
   "metadata": {},
   "source": [
    "- 이미지 폴더에 있는 모든 확장자명 뽑아보기"
   ]
  },
  {
   "cell_type": "code",
   "execution_count": 16,
   "metadata": {},
   "outputs": [],
   "source": [
    "folders = glob(f'{path.train_img}/*')\n",
    "file_exts = []\n",
    "for folder_name in folders:\n",
    "    files = glob(f'{folder_name}/*')\n",
    "    for file_name in files:\n",
    "        ext = file_name.split('.')[-1].lower()\n",
    "        file_exts.append(ext)"
   ]
  },
  {
   "cell_type": "code",
   "execution_count": 17,
   "metadata": {},
   "outputs": [
    {
     "name": "stdout",
     "output_type": "stream",
     "text": [
      ".jpg 의 개수: 18035\n",
      ".jpeg의 개수: 354\n",
      ".png 의 개수: 511\n"
     ]
    }
   ],
   "source": [
    "for ext, count in Counter(file_exts).items():\n",
    "    print(f'.{ext:4}의 개수: {count}')"
   ]
  },
  {
   "cell_type": "markdown",
   "metadata": {},
   "source": [
    "대부분의 파일이 `.jpg`인 것을 볼 수 있다. 약 900개 정도가 다른 확장명인 것을 볼 수 있다. 하지만 파일을 불러올 때 큰 이상은 없으므로 변경하지 않기로 결정!"
   ]
  },
  {
   "cell_type": "markdown",
   "metadata": {},
   "source": [
    "## 2. Create train_modified.csv"
   ]
  },
  {
   "cell_type": "markdown",
   "metadata": {},
   "source": [
    "- 피처의 조합별 클래스 정의"
   ]
  },
  {
   "cell_type": "code",
   "execution_count": 18,
   "metadata": {},
   "outputs": [
    {
     "data": {
      "text/plain": [
       "{('wear', 'male', 0): 0,\n",
       " ('wear', 'male', 1): 1,\n",
       " ('wear', 'male', 2): 2,\n",
       " ('wear', 'female', 0): 3,\n",
       " ('wear', 'female', 1): 4,\n",
       " ('wear', 'female', 2): 5,\n",
       " ('incorrect', 'male', 0): 6,\n",
       " ('incorrect', 'male', 1): 7,\n",
       " ('incorrect', 'male', 2): 8,\n",
       " ('incorrect', 'female', 0): 9,\n",
       " ('incorrect', 'female', 1): 10,\n",
       " ('incorrect', 'female', 2): 11,\n",
       " ('not wear', 'male', 0): 12,\n",
       " ('not wear', 'male', 1): 13,\n",
       " ('not wear', 'male', 2): 14,\n",
       " ('not wear', 'female', 0): 15,\n",
       " ('not wear', 'female', 1): 16,\n",
       " ('not wear', 'female', 2): 17}"
      ]
     },
     "execution_count": 18,
     "metadata": {},
     "output_type": "execute_result"
    }
   ],
   "source": [
    "from itertools import product\n",
    "\n",
    "mask = ['wear', 'incorrect', 'not wear']\n",
    "gender = ['male', 'female']\n",
    "age_bin = [0, 1, 2]\n",
    "\n",
    "combs = list(product(mask, gender, age_bin))\n",
    "num2class = {idx: value for idx, value in enumerate(combs)}\n",
    "class2num = {value: idx for idx, value in enumerate(combs)}\n",
    "class2num"
   ]
  },
  {
   "cell_type": "markdown",
   "metadata": {},
   "source": [
    "- 파일명을 가지고 새로운 데이터프레임 생성"
   ]
  },
  {
   "cell_type": "code",
   "execution_count": 19,
   "metadata": {},
   "outputs": [],
   "source": [
    "def get_mask_value(x):\n",
    "    if x == 'incorrect_mask':\n",
    "        return 'incorrect'\n",
    "    elif x == 'normal':\n",
    "        return 'not wear'\n",
    "    else:\n",
    "        return 'wear'"
   ]
  },
  {
   "cell_type": "code",
   "execution_count": 20,
   "metadata": {},
   "outputs": [],
   "source": [
    "info_dict = {'age': [], 'gender': [], 'mask': [], 'path': []}\n",
    "\n",
    "for folder_name in folders:\n",
    "    elem = folder_name.split('/')[-1].split('_')\n",
    "    gender, age = elem[1], int(elem[-1]) \n",
    "    files = glob(f'{folder_name}/*')\n",
    "    for file_path in files:\n",
    "        file_name = file_path.split('/')[-1].split('.')[0]\n",
    "        info_dict['age'].append(age)\n",
    "        info_dict['gender'].append(gender)\n",
    "        info_dict['mask'].append(get_mask_value(file_name))\n",
    "        info_dict['path'].append(file_path)"
   ]
  },
  {
   "cell_type": "code",
   "execution_count": 21,
   "metadata": {},
   "outputs": [
    {
     "data": {
      "text/html": [
       "<div>\n",
       "<style scoped>\n",
       "    .dataframe tbody tr th:only-of-type {\n",
       "        vertical-align: middle;\n",
       "    }\n",
       "\n",
       "    .dataframe tbody tr th {\n",
       "        vertical-align: top;\n",
       "    }\n",
       "\n",
       "    .dataframe thead th {\n",
       "        text-align: right;\n",
       "    }\n",
       "</style>\n",
       "<table border=\"1\" class=\"dataframe\">\n",
       "  <thead>\n",
       "    <tr style=\"text-align: right;\">\n",
       "      <th></th>\n",
       "      <th>age</th>\n",
       "      <th>gender</th>\n",
       "      <th>mask</th>\n",
       "      <th>path</th>\n",
       "    </tr>\n",
       "  </thead>\n",
       "  <tbody>\n",
       "    <tr>\n",
       "      <th>0</th>\n",
       "      <td>51</td>\n",
       "      <td>female</td>\n",
       "      <td>wear</td>\n",
       "      <td>../input/data/train/images/000523_female_Asian...</td>\n",
       "    </tr>\n",
       "    <tr>\n",
       "      <th>1</th>\n",
       "      <td>51</td>\n",
       "      <td>female</td>\n",
       "      <td>not wear</td>\n",
       "      <td>../input/data/train/images/000523_female_Asian...</td>\n",
       "    </tr>\n",
       "    <tr>\n",
       "      <th>2</th>\n",
       "      <td>51</td>\n",
       "      <td>female</td>\n",
       "      <td>wear</td>\n",
       "      <td>../input/data/train/images/000523_female_Asian...</td>\n",
       "    </tr>\n",
       "    <tr>\n",
       "      <th>3</th>\n",
       "      <td>51</td>\n",
       "      <td>female</td>\n",
       "      <td>wear</td>\n",
       "      <td>../input/data/train/images/000523_female_Asian...</td>\n",
       "    </tr>\n",
       "    <tr>\n",
       "      <th>4</th>\n",
       "      <td>51</td>\n",
       "      <td>female</td>\n",
       "      <td>incorrect</td>\n",
       "      <td>../input/data/train/images/000523_female_Asian...</td>\n",
       "    </tr>\n",
       "  </tbody>\n",
       "</table>\n",
       "</div>"
      ],
      "text/plain": [
       "   age  gender       mask                                               path\n",
       "0   51  female       wear  ../input/data/train/images/000523_female_Asian...\n",
       "1   51  female   not wear  ../input/data/train/images/000523_female_Asian...\n",
       "2   51  female       wear  ../input/data/train/images/000523_female_Asian...\n",
       "3   51  female       wear  ../input/data/train/images/000523_female_Asian...\n",
       "4   51  female  incorrect  ../input/data/train/images/000523_female_Asian..."
      ]
     },
     "execution_count": 21,
     "metadata": {},
     "output_type": "execute_result"
    }
   ],
   "source": [
    "df = pd.DataFrame(info_dict)\n",
    "df.head()"
   ]
  },
  {
   "cell_type": "markdown",
   "metadata": {},
   "source": [
    "- `age_bin` 피처 생성: \"30대 미만\"=0, \"30대 이상, 60대 미만\"=1, \"60대 이상\"=2로 설정"
   ]
  },
  {
   "cell_type": "code",
   "execution_count": 22,
   "metadata": {},
   "outputs": [
    {
     "data": {
      "text/html": [
       "<div>\n",
       "<style scoped>\n",
       "    .dataframe tbody tr th:only-of-type {\n",
       "        vertical-align: middle;\n",
       "    }\n",
       "\n",
       "    .dataframe tbody tr th {\n",
       "        vertical-align: top;\n",
       "    }\n",
       "\n",
       "    .dataframe thead th {\n",
       "        text-align: right;\n",
       "    }\n",
       "</style>\n",
       "<table border=\"1\" class=\"dataframe\">\n",
       "  <thead>\n",
       "    <tr style=\"text-align: right;\">\n",
       "      <th></th>\n",
       "      <th>age</th>\n",
       "      <th>gender</th>\n",
       "      <th>mask</th>\n",
       "      <th>path</th>\n",
       "      <th>age_bin</th>\n",
       "    </tr>\n",
       "  </thead>\n",
       "  <tbody>\n",
       "    <tr>\n",
       "      <th>0</th>\n",
       "      <td>51</td>\n",
       "      <td>female</td>\n",
       "      <td>wear</td>\n",
       "      <td>../input/data/train/images/000523_female_Asian...</td>\n",
       "      <td>1</td>\n",
       "    </tr>\n",
       "    <tr>\n",
       "      <th>1</th>\n",
       "      <td>51</td>\n",
       "      <td>female</td>\n",
       "      <td>not wear</td>\n",
       "      <td>../input/data/train/images/000523_female_Asian...</td>\n",
       "      <td>1</td>\n",
       "    </tr>\n",
       "    <tr>\n",
       "      <th>2</th>\n",
       "      <td>51</td>\n",
       "      <td>female</td>\n",
       "      <td>wear</td>\n",
       "      <td>../input/data/train/images/000523_female_Asian...</td>\n",
       "      <td>1</td>\n",
       "    </tr>\n",
       "    <tr>\n",
       "      <th>3</th>\n",
       "      <td>51</td>\n",
       "      <td>female</td>\n",
       "      <td>wear</td>\n",
       "      <td>../input/data/train/images/000523_female_Asian...</td>\n",
       "      <td>1</td>\n",
       "    </tr>\n",
       "    <tr>\n",
       "      <th>4</th>\n",
       "      <td>51</td>\n",
       "      <td>female</td>\n",
       "      <td>incorrect</td>\n",
       "      <td>../input/data/train/images/000523_female_Asian...</td>\n",
       "      <td>1</td>\n",
       "    </tr>\n",
       "  </tbody>\n",
       "</table>\n",
       "</div>"
      ],
      "text/plain": [
       "   age  gender       mask                                               path  \\\n",
       "0   51  female       wear  ../input/data/train/images/000523_female_Asian...   \n",
       "1   51  female   not wear  ../input/data/train/images/000523_female_Asian...   \n",
       "2   51  female       wear  ../input/data/train/images/000523_female_Asian...   \n",
       "3   51  female       wear  ../input/data/train/images/000523_female_Asian...   \n",
       "4   51  female  incorrect  ../input/data/train/images/000523_female_Asian...   \n",
       "\n",
       "   age_bin  \n",
       "0        1  \n",
       "1        1  \n",
       "2        1  \n",
       "3        1  \n",
       "4        1  "
      ]
     },
     "execution_count": 22,
     "metadata": {},
     "output_type": "execute_result"
    }
   ],
   "source": [
    "def get_age_bin(x): \n",
    "    if x <30:\n",
    "        return 0\n",
    "    elif x >=30 and x <58:\n",
    "        return 1\n",
    "    else:\n",
    "        return 2\n",
    "    \n",
    "df['age_bin'] = df.age.map(get_age_bin)\n",
    "df.head()"
   ]
  },
  {
   "cell_type": "markdown",
   "metadata": {},
   "source": [
    "- `gender`, `mask`, `age_bin`을 가지고 각 데이터별 라벨 계산"
   ]
  },
  {
   "cell_type": "code",
   "execution_count": 23,
   "metadata": {},
   "outputs": [
    {
     "data": {
      "text/html": [
       "<div>\n",
       "<style scoped>\n",
       "    .dataframe tbody tr th:only-of-type {\n",
       "        vertical-align: middle;\n",
       "    }\n",
       "\n",
       "    .dataframe tbody tr th {\n",
       "        vertical-align: top;\n",
       "    }\n",
       "\n",
       "    .dataframe thead th {\n",
       "        text-align: right;\n",
       "    }\n",
       "</style>\n",
       "<table border=\"1\" class=\"dataframe\">\n",
       "  <thead>\n",
       "    <tr style=\"text-align: right;\">\n",
       "      <th></th>\n",
       "      <th>age</th>\n",
       "      <th>gender</th>\n",
       "      <th>mask</th>\n",
       "      <th>path</th>\n",
       "      <th>age_bin</th>\n",
       "      <th>target</th>\n",
       "    </tr>\n",
       "  </thead>\n",
       "  <tbody>\n",
       "    <tr>\n",
       "      <th>0</th>\n",
       "      <td>51</td>\n",
       "      <td>female</td>\n",
       "      <td>wear</td>\n",
       "      <td>../input/data/train/images/000523_female_Asian...</td>\n",
       "      <td>1</td>\n",
       "      <td>4</td>\n",
       "    </tr>\n",
       "    <tr>\n",
       "      <th>1</th>\n",
       "      <td>51</td>\n",
       "      <td>female</td>\n",
       "      <td>not wear</td>\n",
       "      <td>../input/data/train/images/000523_female_Asian...</td>\n",
       "      <td>1</td>\n",
       "      <td>16</td>\n",
       "    </tr>\n",
       "    <tr>\n",
       "      <th>2</th>\n",
       "      <td>51</td>\n",
       "      <td>female</td>\n",
       "      <td>wear</td>\n",
       "      <td>../input/data/train/images/000523_female_Asian...</td>\n",
       "      <td>1</td>\n",
       "      <td>4</td>\n",
       "    </tr>\n",
       "    <tr>\n",
       "      <th>3</th>\n",
       "      <td>51</td>\n",
       "      <td>female</td>\n",
       "      <td>wear</td>\n",
       "      <td>../input/data/train/images/000523_female_Asian...</td>\n",
       "      <td>1</td>\n",
       "      <td>4</td>\n",
       "    </tr>\n",
       "    <tr>\n",
       "      <th>4</th>\n",
       "      <td>51</td>\n",
       "      <td>female</td>\n",
       "      <td>incorrect</td>\n",
       "      <td>../input/data/train/images/000523_female_Asian...</td>\n",
       "      <td>1</td>\n",
       "      <td>10</td>\n",
       "    </tr>\n",
       "  </tbody>\n",
       "</table>\n",
       "</div>"
      ],
      "text/plain": [
       "   age  gender       mask                                               path  \\\n",
       "0   51  female       wear  ../input/data/train/images/000523_female_Asian...   \n",
       "1   51  female   not wear  ../input/data/train/images/000523_female_Asian...   \n",
       "2   51  female       wear  ../input/data/train/images/000523_female_Asian...   \n",
       "3   51  female       wear  ../input/data/train/images/000523_female_Asian...   \n",
       "4   51  female  incorrect  ../input/data/train/images/000523_female_Asian...   \n",
       "\n",
       "   age_bin  target  \n",
       "0        1       4  \n",
       "1        1      16  \n",
       "2        1       4  \n",
       "3        1       4  \n",
       "4        1      10  "
      ]
     },
     "execution_count": 23,
     "metadata": {},
     "output_type": "execute_result"
    }
   ],
   "source": [
    "df['target'] = df.apply(lambda x: class2num[(x['mask'], x['gender'], x['age_bin'])], axis=1)\n",
    "df.head()"
   ]
  },
  {
   "cell_type": "code",
   "execution_count": 24,
   "metadata": {},
   "outputs": [
    {
     "data": {
      "text/plain": [
       "3     3660\n",
       "4     3345\n",
       "0     2745\n",
       "1     1570\n",
       "5     1285\n",
       "2      895\n",
       "9      732\n",
       "15     732\n",
       "16     669\n",
       "10     669\n",
       "6      549\n",
       "12     549\n",
       "13     314\n",
       "7      314\n",
       "17     257\n",
       "11     257\n",
       "8      179\n",
       "14     179\n",
       "Name: target, dtype: int64"
      ]
     },
     "execution_count": 24,
     "metadata": {},
     "output_type": "execute_result"
    }
   ],
   "source": [
    "df['target'].value_counts()"
   ]
  },
  {
   "cell_type": "markdown",
   "metadata": {},
   "source": [
    "- `train_modified.csv`로 저장"
   ]
  },
  {
   "cell_type": "code",
   "execution_count": 25,
   "metadata": {},
   "outputs": [],
   "source": [
    "df.to_csv(f'{path.train}/train_modified_2.csv', mode='w')"
   ]
  },
  {
   "cell_type": "markdown",
   "metadata": {},
   "source": [
    "## 3. Create dataset for model"
   ]
  },
  {
   "cell_type": "code",
   "execution_count": 26,
   "metadata": {},
   "outputs": [],
   "source": [
    "class MaskDataset(Dataset):\n",
    "    def __init__(self, csv_file, transform=None):\n",
    "        self.data = pd.read_csv(csv_file)\n",
    "        self.transform = transform\n",
    "    \n",
    "    def __getitem__(self, idx):\n",
    "        current_data = self.data.iloc[idx]\n",
    "        target = current_data.target\n",
    "        img = np.array(Image.open(current_data.path))\n",
    "        \n",
    "        if self.transform:\n",
    "            img = self.transform(img)\n",
    "        \n",
    "        return img, target\n",
    "        \n",
    "    def __len__(self):\n",
    "        return len(self.data)"
   ]
  },
  {
   "cell_type": "code",
   "execution_count": 27,
   "metadata": {},
   "outputs": [
    {
     "name": "stdout",
     "output_type": "stream",
     "text": [
      "Size of dataset : 18900\n",
      "Shape of image : (512, 384, 3)\n"
     ]
    }
   ],
   "source": [
    "dataset = MaskDataset(f'{path.train}/train_modified.csv')\n",
    "print('Size of dataset :', len(dataset))\n",
    "print('Shape of image :', dataset[0][0].shape)"
   ]
  },
  {
   "cell_type": "code",
   "execution_count": null,
   "metadata": {},
   "outputs": [],
   "source": [
    "# 이미지 확인하기\n",
    "img = Image.fromarray(dataset[0][0])\n",
    "img"
   ]
  }
 ],
 "metadata": {
  "interpreter": {
   "hash": "63fd5069d213b44bf678585dea6b12cceca9941eaf7f819626cde1f2670de90d"
  },
  "kernelspec": {
   "display_name": "Python 3.9.1 64-bit",
   "name": "python3"
  },
  "language_info": {
   "name": "python",
   "version": ""
  }
 },
 "nbformat": 4,
 "nbformat_minor": 5
}